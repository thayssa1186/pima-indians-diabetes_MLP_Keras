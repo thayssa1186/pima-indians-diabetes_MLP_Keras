{
 "cells": [
  {
   "cell_type": "code",
   "execution_count": 170,
   "metadata": {},
   "outputs": [],
   "source": [
    "from keras.models import Sequential\n",
    "from keras.layers import Dense\n",
    "from keras.callbacks import EarlyStopping, ModelCheckpoint\n",
    "from keras.models import model_from_json\n",
    "from sklearn.model_selection import train_test_split\n",
    "import numpy\n",
    "# fix random seed for reproducibility\n",
    "numpy.random.seed(7)"
   ]
  },
  {
   "cell_type": "code",
   "execution_count": 171,
   "metadata": {},
   "outputs": [
    {
     "name": "stdout",
     "output_type": "stream",
     "text": [
      "(576, 8)\n",
      "(192, 8)\n"
     ]
    }
   ],
   "source": [
    "# load pima indians dataset\n",
    "dataset = numpy.loadtxt(\"pima-indians-diabetes.csv\", delimiter=\",\")\n",
    "# split into input (X) and output (Y) variables\n",
    "X = dataset[:,0:8]\n",
    "Y = dataset[:,8]\n",
    "\n",
    "X_train, X_test, y_train, y_test = train_test_split(X,Y,random_state=0)\n",
    "\n",
    "print(X_train.shape)\n",
    "print(X_test.shape)"
   ]
  },
  {
   "cell_type": "code",
   "execution_count": 172,
   "metadata": {},
   "outputs": [],
   "source": [
    "# create model\n",
    "model = Sequential()\n",
    "model.add(Dense(12, input_dim=8, kernel_initializer='uniform', activation='relu'))\n",
    "model.add(Dense(8, kernel_initializer='uniform', activation='relu'))\n",
    "model.add(Dense(1, kernel_initializer='uniform', activation='sigmoid'))"
   ]
  },
  {
   "cell_type": "code",
   "execution_count": 173,
   "metadata": {},
   "outputs": [],
   "source": [
    "# Compile model\n",
    "model.compile(loss='binary_crossentropy', optimizer='adam', metrics=['accuracy'])"
   ]
  },
  {
   "cell_type": "code",
   "execution_count": 174,
   "metadata": {},
   "outputs": [],
   "source": [
    "filepath=\"weights.best.hdf5\"\n",
    "checkpoint = ModelCheckpoint(filepath, monitor='acc', verbose=1, save_best_only=True, mode='max')\n",
    "\n",
    "# check 5 epochs\n",
    "early_stop = EarlyStopping(monitor='acc', patience=15, mode='max') \n",
    "\n",
    "callbacks_list = [checkpoint, early_stop]"
   ]
  },
  {
   "cell_type": "code",
   "execution_count": 175,
   "metadata": {},
   "outputs": [
    {
     "name": "stdout",
     "output_type": "stream",
     "text": [
      "Epoch 1/150\n",
      "576/576 [==============================] - 6s 10ms/step - loss: 0.6763 - acc: 0.6424\n",
      "\n",
      "Epoch 00001: acc improved from -inf to 0.64236, saving model to weights.best.hdf5\n",
      "Epoch 2/150\n",
      "576/576 [==============================] - 2s 3ms/step - loss: 0.6621 - acc: 0.6424\n",
      "\n",
      "Epoch 00002: acc did not improve from 0.64236\n",
      "Epoch 3/150\n",
      "576/576 [==============================] - 2s 3ms/step - loss: 0.6521 - acc: 0.6424A: 0s - loss: 0.6570 - acc\n",
      "\n",
      "Epoch 00003: acc did not improve from 0.64236\n",
      "Epoch 4/150\n",
      "576/576 [==============================] - 2s 4ms/step - loss: 0.6404 - acc: 0.6424\n",
      "\n",
      "Epoch 00004: acc did not improve from 0.64236\n",
      "Epoch 5/150\n",
      "576/576 [==============================] - 3s 5ms/step - loss: 0.6337 - acc: 0.6372\n",
      "\n",
      "Epoch 00005: acc did not improve from 0.64236\n",
      "Epoch 6/150\n",
      "576/576 [==============================] - 2s 4ms/step - loss: 0.6131 - acc: 0.6719\n",
      "\n",
      "Epoch 00006: acc improved from 0.64236 to 0.67188, saving model to weights.best.hdf5\n",
      "Epoch 7/150\n",
      "576/576 [==============================] - 2s 4ms/step - loss: 0.6123 - acc: 0.6927\n",
      "\n",
      "Epoch 00007: acc improved from 0.67188 to 0.69271, saving model to weights.best.hdf5\n",
      "Epoch 8/150\n",
      "576/576 [==============================] - 3s 5ms/step - loss: 0.6102 - acc: 0.6962\n",
      "\n",
      "Epoch 00008: acc improved from 0.69271 to 0.69618, saving model to weights.best.hdf5\n",
      "Epoch 9/150\n",
      "576/576 [==============================] - 2s 4ms/step - loss: 0.5944 - acc: 0.7135\n",
      "\n",
      "Epoch 00009: acc improved from 0.69618 to 0.71354, saving model to weights.best.hdf5\n",
      "Epoch 10/150\n",
      "576/576 [==============================] - 2s 4ms/step - loss: 0.6020 - acc: 0.6858\n",
      "\n",
      "Epoch 00010: acc did not improve from 0.71354\n",
      "Epoch 11/150\n",
      "576/576 [==============================] - 3s 5ms/step - loss: 0.5872 - acc: 0.6823\n",
      "\n",
      "Epoch 00011: acc did not improve from 0.71354\n",
      "Epoch 12/150\n",
      "576/576 [==============================] - 3s 4ms/step - loss: 0.5838 - acc: 0.7153\n",
      "\n",
      "Epoch 00012: acc improved from 0.71354 to 0.71528, saving model to weights.best.hdf5\n",
      "Epoch 13/150\n",
      "576/576 [==============================] - 2s 4ms/step - loss: 0.5863 - acc: 0.7049\n",
      "\n",
      "Epoch 00013: acc did not improve from 0.71528\n",
      "Epoch 14/150\n",
      "576/576 [==============================] - 2s 4ms/step - loss: 0.5792 - acc: 0.7135A: 2s \n",
      "\n",
      "Epoch 00014: acc did not improve from 0.71528\n",
      "Epoch 15/150\n",
      "576/576 [==============================] - 2s 4ms/step - loss: 0.5793 - acc: 0.7170\n",
      "\n",
      "Epoch 00015: acc improved from 0.71528 to 0.71701, saving model to weights.best.hdf5\n",
      "Epoch 16/150\n",
      "576/576 [==============================] - 2s 4ms/step - loss: 0.5755 - acc: 0.7361\n",
      "\n",
      "Epoch 00016: acc improved from 0.71701 to 0.73611, saving model to weights.best.hdf5\n",
      "Epoch 17/150\n",
      "576/576 [==============================] - 2s 4ms/step - loss: 0.5737 - acc: 0.7101\n",
      "\n",
      "Epoch 00017: acc did not improve from 0.73611\n",
      "Epoch 18/150\n",
      "576/576 [==============================] - 2s 4ms/step - loss: 0.5602 - acc: 0.7361\n",
      "\n",
      "Epoch 00018: acc did not improve from 0.73611\n",
      "Epoch 19/150\n",
      "576/576 [==============================] - 2s 4ms/step - loss: 0.5568 - acc: 0.7448\n",
      "\n",
      "Epoch 00019: acc improved from 0.73611 to 0.74479, saving model to weights.best.hdf5\n",
      "Epoch 20/150\n",
      "576/576 [==============================] - 2s 4ms/step - loss: 0.5543 - acc: 0.7361\n",
      "\n",
      "Epoch 00020: acc did not improve from 0.74479\n",
      "Epoch 21/150\n",
      "576/576 [==============================] - 2s 4ms/step - loss: 0.5488 - acc: 0.7535\n",
      "\n",
      "Epoch 00021: acc improved from 0.74479 to 0.75347, saving model to weights.best.hdf5\n",
      "Epoch 22/150\n",
      "576/576 [==============================] - 2s 4ms/step - loss: 0.5540 - acc: 0.7483\n",
      "\n",
      "Epoch 00022: acc did not improve from 0.75347\n",
      "Epoch 23/150\n",
      "576/576 [==============================] - 2s 4ms/step - loss: 0.5476 - acc: 0.7361\n",
      "\n",
      "Epoch 00023: acc did not improve from 0.75347\n",
      "Epoch 24/150\n",
      "576/576 [==============================] - 2s 4ms/step - loss: 0.5328 - acc: 0.7378A: 0s - loss: 0.5352 - acc: 0.\n",
      "\n",
      "Epoch 00024: acc did not improve from 0.75347\n",
      "Epoch 25/150\n",
      "576/576 [==============================] - 2s 4ms/step - loss: 0.5509 - acc: 0.7326\n",
      "\n",
      "Epoch 00025: acc did not improve from 0.75347\n",
      "Epoch 26/150\n",
      "576/576 [==============================] - 2s 4ms/step - loss: 0.5377 - acc: 0.7361A: 0s - loss: 0.5474 \n",
      "\n",
      "Epoch 00026: acc did not improve from 0.75347\n",
      "Epoch 27/150\n",
      "576/576 [==============================] - 3s 4ms/step - loss: 0.5439 - acc: 0.7309\n",
      "\n",
      "Epoch 00027: acc did not improve from 0.75347\n",
      "Epoch 28/150\n",
      "576/576 [==============================] - 2s 4ms/step - loss: 0.5328 - acc: 0.7396A: 1s - los - ETA: 0s - loss: 0.5302\n",
      "\n",
      "Epoch 00028: acc did not improve from 0.75347\n",
      "Epoch 29/150\n",
      "576/576 [==============================] - 2s 4ms/step - loss: 0.5304 - acc: 0.7396\n",
      "\n",
      "Epoch 00029: acc did not improve from 0.75347\n",
      "Epoch 30/150\n",
      "576/576 [==============================] - 2s 4ms/step - loss: 0.5349 - acc: 0.7344A: 0s - loss: 0.5348 - acc:\n",
      "\n",
      "Epoch 00030: acc did not improve from 0.75347\n",
      "Epoch 31/150\n",
      "576/576 [==============================] - 2s 4ms/step - loss: 0.5381 - acc: 0.7431\n",
      "\n",
      "Epoch 00031: acc did not improve from 0.75347\n",
      "Epoch 32/150\n",
      "576/576 [==============================] - ETA: 0s - loss: 0.5300 - acc: 0.744 - 2s 4ms/step - loss: 0.5314 - acc: 0.7413\n",
      "\n",
      "Epoch 00032: acc did not improve from 0.75347\n",
      "Epoch 33/150\n",
      "576/576 [==============================] - 3s 5ms/step - loss: 0.5275 - acc: 0.7448\n",
      "\n",
      "Epoch 00033: acc did not improve from 0.75347\n",
      "Epoch 34/150\n",
      "576/576 [==============================] - 3s 4ms/step - loss: 0.5299 - acc: 0.7448\n",
      "\n",
      "Epoch 00034: acc did not improve from 0.75347\n",
      "Epoch 35/150\n",
      "576/576 [==============================] - 2s 4ms/step - loss: 0.5259 - acc: 0.7413\n",
      "\n",
      "Epoch 00035: acc did not improve from 0.75347\n",
      "Epoch 36/150\n",
      "576/576 [==============================] - 2s 4ms/step - loss: 0.5150 - acc: 0.7448A: \n",
      "\n",
      "Epoch 00036: acc did not improve from 0.75347\n",
      "576/576 [==============================] - 1s 1ms/step\n",
      "\n",
      "acc: 75.69%\n",
      "Saved model to disk\n"
     ]
    }
   ],
   "source": [
    "# Fit the model\n",
    "model.fit(X_train, y_train, epochs=150, batch_size=1,  verbose=1, callbacks=callbacks_list)\n",
    "\n",
    "# evaluate the model\n",
    "scores = model.evaluate(X_train, y_train)\n",
    "print(\"\\n%s: %.2f%%\" % (model.metrics_names[1], scores[1]*100))\n",
    "\n",
    "# serialize model to JSON\n",
    "model_json = model.to_json()\n",
    "with open(\"model.json\", \"w\") as json_file:\n",
    "    json_file.write(model_json)\n",
    "# serialize weights to HDF5\n",
    "model.save_weights(\"model.h5\")\n",
    "print(\"Saved model to disk\")"
   ]
  },
  {
   "cell_type": "code",
   "execution_count": 179,
   "metadata": {},
   "outputs": [
    {
     "name": "stdout",
     "output_type": "stream",
     "text": [
      "Loaded model from disk\n"
     ]
    }
   ],
   "source": [
    "# load json and create model\n",
    "json_file = open('model.json', 'r')\n",
    "loaded_model_json = json_file.read()\n",
    "json_file.close()\n",
    "loaded_model = model_from_json(loaded_model_json)\n",
    "# load weights into new model\n",
    "loaded_model.load_weights(\"model.h5\")\n",
    "print(\"Loaded model from disk\")\n",
    "loaded_model.compile(loss='binary_crossentropy', optimizer='rmsprop', metrics=['accuracy'])"
   ]
  },
  {
   "cell_type": "code",
   "execution_count": 180,
   "metadata": {},
   "outputs": [
    {
     "name": "stdout",
     "output_type": "stream",
     "text": [
      "192/192 [==============================] - 1s 4ms/step\n",
      "\n",
      "acc: 71.35%\n"
     ]
    }
   ],
   "source": [
    "# calculate predictions\n",
    "predictions = loaded_model.predict(X_test)\n",
    "\n",
    "# evaluate the model\n",
    "scores = loaded_model.evaluate(X_test, y_test)\n",
    "print(\"\\n%s: %.2f%%\" % (loaded_model.metrics_names[1], scores[1]*100))\n"
   ]
  },
  {
   "cell_type": "code",
   "execution_count": 181,
   "metadata": {},
   "outputs": [
    {
     "name": "stdout",
     "output_type": "stream",
     "text": [
      "[1.0, 0.0, 0.0, 1.0, 0.0, 0.0, 1.0, 1.0, 1.0, 0.0, 1.0, 1.0, 0.0, 0.0, 0.0, 0.0, 1.0, 0.0, 1.0, 0.0, 1.0, 0.0, 1.0, 0.0, 0.0, 1.0, 0.0, 1.0, 0.0, 0.0, 1.0, 0.0, 0.0, 1.0, 0.0, 1.0, 0.0, 0.0, 1.0, 1.0, 0.0, 0.0, 0.0, 1.0, 1.0, 0.0, 0.0, 0.0, 0.0, 0.0, 1.0, 0.0, 1.0, 1.0, 0.0, 0.0, 0.0, 0.0, 0.0, 0.0, 0.0, 1.0, 0.0, 1.0, 1.0, 1.0, 1.0, 0.0, 1.0, 0.0, 0.0, 0.0, 0.0, 1.0, 1.0, 0.0, 0.0, 1.0, 0.0, 0.0, 0.0, 0.0, 0.0, 0.0, 0.0, 0.0, 1.0, 1.0, 1.0, 0.0, 0.0, 0.0, 0.0, 0.0, 1.0, 0.0, 0.0, 0.0, 0.0, 1.0, 0.0, 0.0, 0.0, 0.0, 1.0, 0.0, 0.0, 1.0, 0.0, 1.0, 0.0, 0.0, 1.0, 0.0, 0.0, 1.0, 0.0, 1.0, 0.0, 1.0, 0.0, 0.0, 0.0, 1.0, 0.0, 0.0, 0.0, 1.0, 0.0, 0.0, 1.0, 0.0, 0.0, 1.0, 0.0, 0.0, 1.0, 1.0, 1.0, 1.0, 0.0, 1.0, 0.0, 0.0, 1.0, 0.0, 0.0, 0.0, 0.0, 0.0, 0.0, 0.0, 0.0, 0.0, 1.0, 0.0, 0.0, 0.0, 0.0, 1.0, 1.0, 1.0, 0.0, 0.0, 1.0, 1.0, 0.0, 0.0, 1.0, 0.0, 0.0, 0.0, 0.0, 0.0, 1.0, 0.0, 1.0, 0.0, 0.0, 0.0, 0.0, 0.0, 0.0, 1.0, 0.0, 0.0, 1.0, 0.0, 1.0, 0.0, 1.0, 0.0]\n"
     ]
    }
   ],
   "source": [
    "# round predictions\n",
    "rounded = [round(x[0]) for x in predictions]\n",
    "print(rounded)"
   ]
  },
  {
   "cell_type": "code",
   "execution_count": null,
   "metadata": {},
   "outputs": [],
   "source": []
  },
  {
   "cell_type": "code",
   "execution_count": null,
   "metadata": {},
   "outputs": [],
   "source": []
  }
 ],
 "metadata": {
  "kernelspec": {
   "display_name": "Python 3",
   "language": "python",
   "name": "python3"
  },
  "language_info": {
   "codemirror_mode": {
    "name": "ipython",
    "version": 3
   },
   "file_extension": ".py",
   "mimetype": "text/x-python",
   "name": "python",
   "nbconvert_exporter": "python",
   "pygments_lexer": "ipython3",
   "version": "3.6.5"
  }
 },
 "nbformat": 4,
 "nbformat_minor": 2
}
